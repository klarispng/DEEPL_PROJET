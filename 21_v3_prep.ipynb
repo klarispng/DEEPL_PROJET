{
 "cells": [
  {
   "cell_type": "code",
   "execution_count": 23,
   "metadata": {},
   "outputs": [],
   "source": [
    "import pandas as pd\n",
    "from music21 import converter, instrument, note, chord\n",
    "from sklearn.preprocessing import LabelEncoder\n",
    "import itertools\n",
    "import warnings\n",
    "warnings.filterwarnings(\"ignore\")"
   ]
  },
  {
   "cell_type": "code",
   "execution_count": 24,
   "metadata": {},
   "outputs": [],
   "source": [
    "path = 'data\\maestro-v3.0.0.csv'\n",
    "df = pd.read_csv(path)"
   ]
  },
  {
   "cell_type": "code",
   "execution_count": 25,
   "metadata": {},
   "outputs": [],
   "source": [
    "#df = df.sort_values(by='duration').iloc[:50]\n",
    "#df = df[df['canonical_composer'].isin(df['canonical_composer'].unique()[:10])]\n",
    "#compositeur avec le plus de track \n",
    "comp = df.groupby('canonical_composer')['midi_filename'].count().reset_index().sort_values(by='midi_filename')['canonical_composer'].to_list()[-3:-2]\n",
    "df = df[df['canonical_composer'].isin(comp)]"
   ]
  },
  {
   "cell_type": "code",
   "execution_count": 26,
   "metadata": {},
   "outputs": [
    {
     "data": {
      "text/plain": [
       "['Ludwig van Beethoven']"
      ]
     },
     "execution_count": 26,
     "metadata": {},
     "output_type": "execute_result"
    }
   ],
   "source": [
    "comp"
   ]
  },
  {
   "cell_type": "code",
   "execution_count": 27,
   "metadata": {},
   "outputs": [],
   "source": [
    "Lnom,Lmidi = [],[]\n",
    "def extraction_notes(file):\n",
    "    midi = converter.parse(file)\n",
    "    L_notes = []\n",
    "    for e in midi.recurse().notes:\n",
    "        Lmidi.append(e)\n",
    "        if e.isNote:\n",
    "            L_notes.append(note.Note(e.pitch.midi).nameWithOctave)\n",
    "            Lnom.append(note.Note(e.pitch.midi).nameWithOctave)\n",
    "        elif e.isChord:\n",
    "            ch = chord.Chord(e)\n",
    "            if ch.commonName:\n",
    "                L_notes.append(ch.commonName) \n",
    "                Lnom.append(ch.commonName) \n",
    "            elif ch.figure:\n",
    "                L_notes.append(ch.figure)\n",
    "                Lnom.append(ch.figure)\n",
    "            else:\n",
    "                L_notes.append(ch.pitchedCommonName) \n",
    "                Lnom.append(ch.pitchedCommonName) \n",
    "    if len(L_notes)<200:\n",
    "        return 'null'\n",
    "    else:\n",
    "        return L_notes \n",
    "    \n",
    "def ex_notes_tab(df,col_out):\n",
    "    df['midi_file_data'] = 'data/'+df['midi_filename']\n",
    "    df[col_out] = df['midi_file_data'].apply(extraction_notes)\n",
    "    return df[df[col_out]!='null']"
   ]
  },
  {
   "cell_type": "code",
   "execution_count": 28,
   "metadata": {},
   "outputs": [],
   "source": [
    "def create_map(dftrain,dftest,deval,col):\n",
    "    all_notes = notes_df(dftrain) + notes_df(dftest) + notes_df(deval)\n",
    "    all_notes = list(set(all_notes))\n",
    "    global Dmap\n",
    "\n",
    "    Dmap={}\n",
    "    i=0\n",
    "    for k in all_notes:\n",
    "        Dmap[k]=i\n",
    "        i+=1\n",
    "\n",
    "    dftrain[col] = dftrain[col].apply(map_liste)\n",
    "    dftest[col] = dftest[col].apply(map_liste)\n",
    "    deval[col] = deval[col].apply(map_liste)\n",
    "    \n",
    "    return dftrain,dftest,deval\n",
    "\n",
    "def notes_df(df,col='notes'):\n",
    "    all_notes = []\n",
    "    for x in df[col].to_list():\n",
    "        all_notes+=x\n",
    "        all_notes = list(set(all_notes))\n",
    "    return list(set(all_notes))\n",
    "\n",
    "def map_liste(l):\n",
    "    return [Dmap[e] for e in l]"
   ]
  },
  {
   "cell_type": "code",
   "execution_count": 29,
   "metadata": {},
   "outputs": [],
   "source": [
    "def colonnes(df):\n",
    "    df_expanded = df['X'].apply(pd.Series)\n",
    "    df_expanded['y'] = df['y']\n",
    "\n",
    "    return df_expanded\n",
    "\n",
    "def sequence_list(L):\n",
    "    sequence_length = 8\n",
    "\n",
    "    input_sequences = []\n",
    "    output_notes = []\n",
    "\n",
    "    for i in range(len(L) - sequence_length):\n",
    "        seq_in = L[i:i + sequence_length]  \n",
    "        seq_out = L[i + sequence_length]  \n",
    "        input_sequences.append(seq_in)\n",
    "        output_notes.append(seq_out)\n",
    "\n",
    "    return input_sequences,output_notes\n",
    "\n",
    "def sequence(dff):\n",
    "    X,y = [],[]\n",
    "    for k in dff['notes'].to_list():\n",
    "        xtemp,ytemp = sequence_list(k)\n",
    "        X.append(xtemp)\n",
    "        y.append(ytemp)\n",
    "    X=list(itertools.chain(*X))\n",
    "    y=list(itertools.chain(*y))\n",
    "\n",
    "    return pd.DataFrame({\"X\":X,\"y\":y})"
   ]
  },
  {
   "cell_type": "code",
   "execution_count": 30,
   "metadata": {},
   "outputs": [],
   "source": [
    "def preprocessing(df):\n",
    "\n",
    "    dftrain = ex_notes_tab(df[df['split']=='train'],'notes')\n",
    "    dftest = ex_notes_tab(df[df['split']=='test'],'notes')\n",
    "    deval = ex_notes_tab(df[df['split']=='validation'],'notes')\n",
    "\n",
    "    dftrain,dftest,deval = create_map(dftrain,dftest,deval,'notes')\n",
    "\n",
    "    return colonnes(sequence(dftrain)),colonnes(sequence(dftest)),colonnes(sequence(deval))\n",
    "    "
   ]
  },
  {
   "cell_type": "code",
   "execution_count": 31,
   "metadata": {},
   "outputs": [],
   "source": [
    "dftrain,dftest,deval = preprocessing(df)"
   ]
  },
  {
   "cell_type": "code",
   "execution_count": 32,
   "metadata": {},
   "outputs": [],
   "source": [
    "dftrain.to_csv('00_train_V3_'+comp[0]+'_8_temps2.csv',index=False)\n",
    "dftest.to_csv('00_test_V3_'+comp[0]+'_8_temps2.csv',index=False)\n",
    "deval.to_csv('00_validation_V3_'+comp[0]+'_8_temps2.csv',index=False)"
   ]
  },
  {
   "cell_type": "code",
   "execution_count": 33,
   "metadata": {},
   "outputs": [
    {
     "data": {
      "text/plain": [
       "['Ludwig van Beethoven']"
      ]
     },
     "execution_count": 33,
     "metadata": {},
     "output_type": "execute_result"
    }
   ],
   "source": [
    "comp"
   ]
  },
  {
   "cell_type": "markdown",
   "metadata": {},
   "source": [
    "# EXPORTTTTTT"
   ]
  },
  {
   "cell_type": "code",
   "execution_count": 24,
   "metadata": {},
   "outputs": [],
   "source": [
    "nomtomidi = {}\n",
    "for k in range(len(Lmidi)):\n",
    "    nomtomidi[Lnom[k]]=[Lmidi[k]]\n"
   ]
  },
  {
   "cell_type": "code",
   "execution_count": 25,
   "metadata": {},
   "outputs": [],
   "source": [
    "encodetomidi = {}\n",
    "for k in nomtomidi:\n",
    "    encodetomidi[Dmap[k]]=nomtomidi[k]"
   ]
  },
  {
   "cell_type": "code",
   "execution_count": 26,
   "metadata": {},
   "outputs": [],
   "source": [
    "generated = [140,\n",
    " 140,\n",
    " 281,\n",
    " 375,\n",
    " 302,\n",
    " 482,\n",
    " 126,\n",
    " 418,\n",
    " 277,\n",
    " 282,\n",
    " 272,\n",
    " 270,\n",
    " 271,\n",
    " 266,\n",
    " 271,\n",
    " 269,\n",
    " 273,\n",
    " 268,\n",
    " 268,\n",
    " 268,\n",
    " 267,\n",
    " 265,\n",
    " 268,\n",
    " 267,\n",
    " 268,\n",
    " 270,\n",
    " 264,\n",
    " 265,\n",
    " 270,\n",
    " 269,\n",
    " 266,\n",
    " 268,\n",
    " 269,\n",
    " 267,\n",
    " 269,\n",
    " 269,\n",
    " 267,\n",
    " 269,\n",
    " 269,\n",
    " 265,\n",
    " 269,\n",
    " 271,\n",
    " 269,\n",
    " 265,\n",
    " 267,\n",
    " 267,\n",
    " 268,\n",
    " 267,\n",
    " 266,\n",
    " 272,\n",
    " 270,\n",
    " 268,\n",
    " 274,\n",
    " 266,\n",
    " 270,\n",
    " 267,\n",
    " 272,\n",
    " 269]"
   ]
  },
  {
   "cell_type": "code",
   "execution_count": 27,
   "metadata": {},
   "outputs": [],
   "source": [
    "generated_midi = []\n",
    "for k in generated:\n",
    "    generated_midi.append(encodetomidi[k])"
   ]
  },
  {
   "cell_type": "code",
   "execution_count": 28,
   "metadata": {},
   "outputs": [
    {
     "data": {
      "text/plain": [
       "'test_v3_02.mid'"
      ]
     },
     "execution_count": 28,
     "metadata": {},
     "output_type": "execute_result"
    }
   ],
   "source": [
    "from music21 import stream\n",
    "from copy import deepcopy\n",
    "s = stream.Stream()\n",
    "\n",
    "# Paramètres : durée de chaque note ou accord\n",
    "duration = 0.5  # durée en quarts de note\n",
    "\n",
    "# Ajoute chaque note ou accord à la Stream\n",
    "for group in generated_midi:\n",
    "    for element in group:\n",
    "        element_copy = deepcopy(element)\n",
    "        element_copy.quarterLength = duration\n",
    "        s.append(element_copy)\n",
    "\n",
    "# Exporte en MIDI\n",
    "s.write('midi', fp='test_v3_02.mid')"
   ]
  },
  {
   "cell_type": "code",
   "execution_count": null,
   "metadata": {},
   "outputs": [],
   "source": []
  }
 ],
 "metadata": {
  "kernelspec": {
   "display_name": "Python 3",
   "language": "python",
   "name": "python3"
  },
  "language_info": {
   "codemirror_mode": {
    "name": "ipython",
    "version": 3
   },
   "file_extension": ".py",
   "mimetype": "text/x-python",
   "name": "python",
   "nbconvert_exporter": "python",
   "pygments_lexer": "ipython3",
   "version": "3.11.9"
  }
 },
 "nbformat": 4,
 "nbformat_minor": 2
}
