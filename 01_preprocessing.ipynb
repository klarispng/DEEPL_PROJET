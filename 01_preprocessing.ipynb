{
 "cells": [
  {
   "cell_type": "code",
   "execution_count": 1,
   "metadata": {},
   "outputs": [],
   "source": [
    "import pandas as pd\n",
    "from music21 import converter, instrument, note, chord\n",
    "from sklearn.preprocessing import LabelEncoder\n",
    "import itertools"
   ]
  },
  {
   "cell_type": "code",
   "execution_count": 2,
   "metadata": {},
   "outputs": [],
   "source": [
    "path = 'data\\maestro-v3.0.0.csv'\n",
    "df = pd.read_csv(path)"
   ]
  },
  {
   "cell_type": "code",
   "execution_count": 3,
   "metadata": {},
   "outputs": [],
   "source": [
    "#df = df.iloc[:50]"
   ]
  },
  {
   "cell_type": "code",
   "execution_count": 4,
   "metadata": {},
   "outputs": [],
   "source": [
    "#Cration du tableau contenant les musiques sous forme de note\n",
    "def extract_notes(file):\n",
    "    midi = converter.parse(file)\n",
    "    notes = []\n",
    "    for part in midi.parts:\n",
    "        for element in part.flat.notes:\n",
    "            if isinstance(element, note.Note):\n",
    "                notes.append(str(element.pitch))\n",
    "            elif isinstance(element, chord.Chord):\n",
    "                notes.append('.'.join(str(n) for n in element.normalOrder))\n",
    "    return notes\n",
    "\n",
    "def ex_notes_tab(df,col_out):\n",
    "    df['midi_file_data'] = 'data/'+df['midi_filename']\n",
    "    df[col_out] = df['midi_file_data'].apply(extract_notes)\n",
    "    return df"
   ]
  },
  {
   "cell_type": "code",
   "execution_count": 5,
   "metadata": {},
   "outputs": [],
   "source": [
    "#Encodage\n",
    "def encodage(df,col):\n",
    "    all_notes = []\n",
    "    for k in df[col].to_list():\n",
    "        all_notes+=k\n",
    "    all_notes = list(set(all_notes))\n",
    "\n",
    "    encoder = LabelEncoder()\n",
    "    encoder.fit(all_notes)\n",
    "\n",
    "    df['encoded'] = df[col].apply(encoder.transform)\n",
    "    return df"
   ]
  },
  {
   "cell_type": "code",
   "execution_count": 6,
   "metadata": {},
   "outputs": [],
   "source": [
    "#préparation tableau\n",
    "def sequence_list(L):\n",
    "    sequence_length = 500\n",
    "\n",
    "    input_sequences = []\n",
    "    output_notes = []\n",
    "\n",
    "    for i in range(len(L) - sequence_length):\n",
    "        seq_in = L[i:i + sequence_length]  \n",
    "        seq_out = L[i + sequence_length]  \n",
    "        input_sequences.append(seq_in)\n",
    "        output_notes.append(seq_out)\n",
    "\n",
    "    return input_sequences,output_notes\n",
    "\n",
    "def sequence(dff):\n",
    "    X,y = [],[]\n",
    "    for k in dff['encoded'].to_list():\n",
    "        xtemp,ytemp = sequence_list(k)\n",
    "        X.append(xtemp)\n",
    "        y.append(ytemp)\n",
    "    X=list(itertools.chain(*X))\n",
    "    y=list(itertools.chain(*y))\n",
    "\n",
    "    return pd.DataFrame({\"X\":X,\"y\":y})\n",
    "    "
   ]
  },
  {
   "cell_type": "code",
   "execution_count": 7,
   "metadata": {},
   "outputs": [],
   "source": [
    "def preprocessing(df):\n",
    "    print(\"extraction notes\")\n",
    "    df = ex_notes_tab(df,'notes')\n",
    "\n",
    "    print(\"encodage\")\n",
    "    df = encodage(df,'notes')\n",
    "\n",
    "    print(\"sequence train\")\n",
    "    train = sequence(df[df['split']=='train'])\n",
    "    print(\"sequence test\")\n",
    "    test = sequence(df[df['split']=='test'])\n",
    "    print(\"sequence val\")\n",
    "    val = sequence(df[df['split']=='validation'])\n",
    "\n",
    "    return train,test,val"
   ]
  },
  {
   "cell_type": "code",
   "execution_count": 8,
   "metadata": {},
   "outputs": [
    {
     "name": "stdout",
     "output_type": "stream",
     "text": [
      "extraction notes\n"
     ]
    },
    {
     "name": "stderr",
     "output_type": "stream",
     "text": [
      "C:\\Users\\ccdeb\\AppData\\Local\\Packages\\PythonSoftwareFoundation.Python.3.11_qbz5n2kfra8p0\\LocalCache\\local-packages\\Python311\\site-packages\\music21\\stream\\base.py:3675: Music21DeprecationWarning: .flat is deprecated.  Call .flatten() instead\n",
      "  return self.iter().getElementsByClass(classFilterList)\n",
      "C:\\Users\\ccdeb\\AppData\\Local\\Packages\\PythonSoftwareFoundation.Python.3.11_qbz5n2kfra8p0\\LocalCache\\local-packages\\Python311\\site-packages\\music21\\stream\\base.py:3675: Music21DeprecationWarning: .flat is deprecated.  Call .flatten() instead\n",
      "  return self.iter().getElementsByClass(classFilterList)\n",
      "In C:\\Users\\ccdeb\\AppData\\Local\\Packages\\PythonSoftwareFoundation.Python.3.11_qbz5n2kfra8p0\\LocalCache\\local-packages\\Python311\\site-packages\\matplotlib\\mpl-data\\stylelib\\ggplot.mplstyle: .flat is deprecated.  Call .flatten() instead\n",
      "C:\\Users\\ccdeb\\AppData\\Local\\Packages\\PythonSoftwareFoundation.Python.3.11_qbz5n2kfra8p0\\LocalCache\\local-packages\\Python311\\site-packages\\music21\\stream\\base.py:3675: Music21DeprecationWarning: .flat is deprecated.  Call .flatten() instead\n",
      "  return self.iter().getElementsByClass(classFilterList)\n"
     ]
    },
    {
     "name": "stdout",
     "output_type": "stream",
     "text": [
      "encodage\n",
      "sequence train\n",
      "sequence test\n",
      "sequence val\n"
     ]
    }
   ],
   "source": [
    "train,test,val = preprocessing(df)"
   ]
  },
  {
   "cell_type": "code",
   "execution_count": 9,
   "metadata": {},
   "outputs": [],
   "source": [
    "train.to_csv('train.csv')"
   ]
  },
  {
   "cell_type": "code",
   "execution_count": 10,
   "metadata": {},
   "outputs": [],
   "source": [
    "test.to_csv('test.csv')"
   ]
  },
  {
   "cell_type": "code",
   "execution_count": 11,
   "metadata": {},
   "outputs": [],
   "source": [
    "val.to_csv('val.csv')"
   ]
  },
  {
   "cell_type": "code",
   "execution_count": null,
   "metadata": {},
   "outputs": [],
   "source": []
  }
 ],
 "metadata": {
  "kernelspec": {
   "display_name": "Python 3",
   "language": "python",
   "name": "python3"
  },
  "language_info": {
   "codemirror_mode": {
    "name": "ipython",
    "version": 3
   },
   "file_extension": ".py",
   "mimetype": "text/x-python",
   "name": "python",
   "nbconvert_exporter": "python",
   "pygments_lexer": "ipython3",
   "version": "3.11.9"
  }
 },
 "nbformat": 4,
 "nbformat_minor": 2
}
