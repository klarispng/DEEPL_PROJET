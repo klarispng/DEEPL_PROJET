{
 "cells": [
  {
   "cell_type": "code",
   "execution_count": 1,
   "metadata": {},
   "outputs": [],
   "source": [
    "import pandas as pd\n",
    "from music21 import converter, instrument, note, chord\n",
    "from sklearn.preprocessing import LabelEncoder\n",
    "import itertools\n",
    "import warnings\n",
    "warnings.filterwarnings(\"ignore\")"
   ]
  },
  {
   "cell_type": "code",
   "execution_count": 2,
   "metadata": {},
   "outputs": [],
   "source": [
    "path = 'data\\maestro-v3.0.0.csv'\n",
    "df = pd.read_csv(path)"
   ]
  },
  {
   "cell_type": "code",
   "execution_count": 5,
   "metadata": {},
   "outputs": [],
   "source": [
    "#df = df.sort_values(by='duration').iloc[:50]\n",
    "#df = df[df['canonical_composer'].isin(df['canonical_composer'].unique()[:10])]\n",
    "#compositeur avec le plus de track \n",
    "comp = df.groupby('canonical_composer')['midi_filename'].count().reset_index().sort_values(by='midi_filename')['canonical_composer'].to_list()[-10:-9]\n",
    "df = df[df['canonical_composer'].isin(comp)]"
   ]
  },
  {
   "cell_type": "code",
   "execution_count": 6,
   "metadata": {},
   "outputs": [],
   "source": [
    "def extraction_notes(file):\n",
    "    midi = converter.parse(file)\n",
    "    L_notes = []\n",
    "    for e in midi.recurse().notes:\n",
    "        if e.isNote:\n",
    "            L_notes.append(e.pitch.midi)\n",
    "        elif e.isChord:\n",
    "            L_notes.append(e.pitches[0].midi)\n",
    "    if len(L_notes)<8:\n",
    "        return 'null'\n",
    "    else:\n",
    "        return L_notes \n",
    "    \n",
    "def ex_notes_tab(df,col_out):\n",
    "    df['midi_file_data'] = 'data/'+df['midi_filename']\n",
    "    df[col_out] = df['midi_file_data'].apply(extraction_notes)\n",
    "    return df[df[col_out]!='null']"
   ]
  },
  {
   "cell_type": "code",
   "execution_count": 7,
   "metadata": {},
   "outputs": [],
   "source": [
    "def colonnes(df):\n",
    "    df_expanded = df['X'].apply(pd.Series)\n",
    "    df_expanded['y'] = df['y']\n",
    "    return df_expanded\n",
    "\n",
    "def sequence_list(L):\n",
    "    sequence_length = 8\n",
    "\n",
    "    input_sequences = []\n",
    "    output_notes = []\n",
    "\n",
    "    for i in range(len(L) - sequence_length):\n",
    "        seq_in = L[i:i + sequence_length]  \n",
    "        seq_out = L[i + sequence_length]  \n",
    "        input_sequences.append(seq_in)\n",
    "        output_notes.append(seq_out)\n",
    "\n",
    "    return input_sequences,output_notes\n",
    "\n",
    "def sequence(dff):\n",
    "    X,y = [],[]\n",
    "    for k in dff['notes'].to_list():\n",
    "        xtemp,ytemp = sequence_list(k)\n",
    "        X.append(xtemp)\n",
    "        y.append(ytemp)\n",
    "    X=list(itertools.chain(*X))\n",
    "    y=list(itertools.chain(*y))\n",
    "\n",
    "    return pd.DataFrame({\"X\":X,\"y\":y})"
   ]
  },
  {
   "cell_type": "code",
   "execution_count": 8,
   "metadata": {},
   "outputs": [],
   "source": [
    "def preprocessing(df):\n",
    "\n",
    "    dftrain = colonnes(sequence(ex_notes_tab(df[df['split']=='train'],'notes')))\n",
    "    dftest = colonnes(sequence(ex_notes_tab(df[df['split']=='test'],'notes')))\n",
    "    dfeval = colonnes(sequence(ex_notes_tab(df[df['split']=='validation'],'notes')))\n",
    "\n",
    "    return dftrain,dftest,dfeval\n",
    "    "
   ]
  },
  {
   "cell_type": "code",
   "execution_count": 9,
   "metadata": {},
   "outputs": [],
   "source": [
    "dftrain,dftest,deval = preprocessing(df)"
   ]
  },
  {
   "cell_type": "code",
   "execution_count": 10,
   "metadata": {},
   "outputs": [],
   "source": [
    "dftrain.to_csv('00_train_V4_8_temps_3.csv',index=False)\n",
    "dftest.to_csv('00_test_V4_8_temps_3.csv',index=False)\n",
    "deval.to_csv('00_validation_V4_8_temps_3.csv',index=False)"
   ]
  },
  {
   "cell_type": "code",
   "execution_count": null,
   "metadata": {},
   "outputs": [],
   "source": []
  }
 ],
 "metadata": {
  "kernelspec": {
   "display_name": "Python 3",
   "language": "python",
   "name": "python3"
  },
  "language_info": {
   "codemirror_mode": {
    "name": "ipython",
    "version": 3
   },
   "file_extension": ".py",
   "mimetype": "text/x-python",
   "name": "python",
   "nbconvert_exporter": "python",
   "pygments_lexer": "ipython3",
   "version": "3.11.9"
  }
 },
 "nbformat": 4,
 "nbformat_minor": 2
}
