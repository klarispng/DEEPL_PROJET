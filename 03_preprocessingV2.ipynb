{
 "cells": [
  {
   "cell_type": "code",
   "execution_count": 1,
   "metadata": {},
   "outputs": [],
   "source": [
    "import pandas as pd\n",
    "from music21 import converter, instrument, note, chord\n",
    "from sklearn.preprocessing import LabelEncoder\n",
    "import itertools\n",
    "import warnings\n",
    "warnings.filterwarnings(\"ignore\")"
   ]
  },
  {
   "cell_type": "code",
   "execution_count": 15,
   "metadata": {},
   "outputs": [],
   "source": [
    "path = 'data\\maestro-v3.0.0.csv'\n",
    "df = pd.read_csv(path)"
   ]
  },
  {
   "cell_type": "code",
   "execution_count": 16,
   "metadata": {},
   "outputs": [],
   "source": [
    "df = df.sort_values(by='duration').iloc[:10]"
   ]
  },
  {
   "cell_type": "code",
   "execution_count": 10,
   "metadata": {},
   "outputs": [],
   "source": [
    "df = ex_notes_tab(df,'notes')\n",
    "n=[]\n",
    "notess = df['notes'].to_list()\n",
    "for i in notess:\n",
    "    for j in i:\n",
    "        for k in j:\n",
    "            if k not in n:\n",
    "                n.append(k)\n"
   ]
  },
  {
   "cell_type": "code",
   "execution_count": 14,
   "metadata": {},
   "outputs": [
    {
     "data": {
      "text/plain": [
       "[-1,\n",
       " 24,\n",
       " 28,\n",
       " 29,\n",
       " 30,\n",
       " 31,\n",
       " 32,\n",
       " 33,\n",
       " 34,\n",
       " 35,\n",
       " 36,\n",
       " 37,\n",
       " 38,\n",
       " 39,\n",
       " 40,\n",
       " 41,\n",
       " 42,\n",
       " 43,\n",
       " 44,\n",
       " 45,\n",
       " 46,\n",
       " 47,\n",
       " 48,\n",
       " 49,\n",
       " 50,\n",
       " 51,\n",
       " 52,\n",
       " 53,\n",
       " 54,\n",
       " 55,\n",
       " 56,\n",
       " 57,\n",
       " 58,\n",
       " 59,\n",
       " 60,\n",
       " 61,\n",
       " 62,\n",
       " 63,\n",
       " 64,\n",
       " 65,\n",
       " 66,\n",
       " 67,\n",
       " 68,\n",
       " 69,\n",
       " 70,\n",
       " 71,\n",
       " 72,\n",
       " 73,\n",
       " 74,\n",
       " 75,\n",
       " 76,\n",
       " 77,\n",
       " 78,\n",
       " 79,\n",
       " 80,\n",
       " 81,\n",
       " 82,\n",
       " 83,\n",
       " 84,\n",
       " 85,\n",
       " 86,\n",
       " 87,\n",
       " 88,\n",
       " 89,\n",
       " 90,\n",
       " 91,\n",
       " 92,\n",
       " 93,\n",
       " 94,\n",
       " 95,\n",
       " 96,\n",
       " 97,\n",
       " 98,\n",
       " 99,\n",
       " 100,\n",
       " 101,\n",
       " 102,\n",
       " 103,\n",
       " 104,\n",
       " 105,\n",
       " 107]"
      ]
     },
     "execution_count": 14,
     "metadata": {},
     "output_type": "execute_result"
    }
   ],
   "source": [
    "sorted(n)"
   ]
  },
  {
   "cell_type": "code",
   "execution_count": null,
   "metadata": {},
   "outputs": [],
   "source": [
    "'''\n",
    "def extraction_notes(file):\n",
    "    midi = converter.parse(file)\n",
    "    L_notes = []\n",
    "    for e in midi.recurse().notes:\n",
    "        if e.isNote:\n",
    "            x = [e.pitch.midi]+9*[-1]\n",
    "            L_notes.append(x)\n",
    "        elif e.isChord:\n",
    "            x = [p.midi for p in e.pitches]\n",
    "            while len(x)<10:\n",
    "                x.append(-1)\n",
    "            L_notes.append(x)\n",
    "    if len(L_notes)<200:\n",
    "        return 'null'\n",
    "    else:\n",
    "        return L_notes\n",
    "\n",
    "def extraction_notes(file):\n",
    "    midi = converter.parse(file)\n",
    "    L_notes = []\n",
    "    for e in midi.recurse().notes:\n",
    "        if e.isNote:\n",
    "            x = [e.pitch.midi/127]+9*[-1]\n",
    "            L_notes.append(x)\n",
    "        elif e.isChord:\n",
    "            x = [p.midi/127 for p in e.pitches]\n",
    "            while len(x)<10:\n",
    "                x.append(-1)\n",
    "            L_notes.append(x)\n",
    "    if len(L_notes)<200:\n",
    "        return 'null'\n",
    "    else:\n",
    "        return L_notes'''\n",
    "    \n",
    "def extraction_notes(file):\n",
    "    midi = converter.parse(file)\n",
    "    L_notes = []\n",
    "    for e in midi.recurse().notes:\n",
    "        if e.isNote:\n",
    "            x = [e.pitch.midi]+9*[]\n",
    "            L_notes.append(x)\n",
    "        elif e.isChord:\n",
    "            x = [p.midi for p in e.pitches]\n",
    "            L_notes.append(x)\n",
    "    if len(L_notes)<200:\n",
    "        return 'null'\n",
    "    else:\n",
    "        return L_notes \n",
    "\n",
    "def ex_notes_tab(df,col_out):\n",
    "    df['midi_file_data'] = 'data/'+df['midi_filename']\n",
    "    df[col_out] = df['midi_file_data'].apply(extraction_notes)\n",
    "    return df[df[col_out]!='null']\n",
    "\n",
    "def colonnes(df):\n",
    "    df_expanded = df['X'].apply(pd.Series)\n",
    "    df_expanded['y'] = df['y']\n",
    "\n",
    "    return df_expanded\n",
    "\n",
    "def sequence_list(L):\n",
    "    sequence_length = 200\n",
    "\n",
    "    input_sequences = []\n",
    "    output_notes = []\n",
    "\n",
    "    for i in range(len(L) - sequence_length):\n",
    "        seq_in = L[i:i + sequence_length]  \n",
    "        seq_out = L[i + sequence_length]  \n",
    "        input_sequences.append(seq_in)\n",
    "        output_notes.append(seq_out)\n",
    "\n",
    "    return input_sequences,output_notes\n",
    "\n",
    "def sequence(dff):\n",
    "    X,y = [],[]\n",
    "    for k in dff['notes'].to_list():\n",
    "        xtemp,ytemp = sequence_list(k)\n",
    "        X.append(xtemp)\n",
    "        y.append(ytemp)\n",
    "    X=list(itertools.chain(*X))\n",
    "    y=list(itertools.chain(*y))\n",
    "\n",
    "    return pd.DataFrame({\"X\":X,\"y\":y})\n",
    "    "
   ]
  },
  {
   "cell_type": "code",
   "execution_count": 23,
   "metadata": {},
   "outputs": [
    {
     "data": {
      "text/plain": [
       "['a']"
      ]
     },
     "execution_count": 23,
     "metadata": {},
     "output_type": "execute_result"
    }
   ],
   "source": [
    "['a']+9*[]"
   ]
  },
  {
   "cell_type": "code",
   "execution_count": 21,
   "metadata": {},
   "outputs": [],
   "source": [
    "def preprocessing(df,split):\n",
    "    dff = df[df['split']==split]\n",
    "    #print(dff.head())\n",
    "    dff = ex_notes_tab(dff,'notes')\n",
    "    #print(dff.head())\n",
    "    return colonnes(sequence(dff))"
   ]
  },
  {
   "cell_type": "code",
   "execution_count": 22,
   "metadata": {},
   "outputs": [
    {
     "name": "stdout",
     "output_type": "stream",
     "text": [
      "validation\n",
      "train\n",
      "test\n"
     ]
    }
   ],
   "source": [
    "for k in df['split'].unique():\n",
    "    print(k)\n",
    "    dfp = preprocessing(df,k)\n",
    "    #dfp.to_csv('C:/Users/ccdeb/Documents/CS/3A/DEEPL/PROJET/data/'+k+'_10_V2.csv',index=False)\n",
    "    dfp.to_csv('00_'+k+'_10_V4.csv',index=False)"
   ]
  },
  {
   "cell_type": "code",
   "execution_count": null,
   "metadata": {},
   "outputs": [],
   "source": []
  }
 ],
 "metadata": {
  "kernelspec": {
   "display_name": "Python 3",
   "language": "python",
   "name": "python3"
  },
  "language_info": {
   "codemirror_mode": {
    "name": "ipython",
    "version": 3
   },
   "file_extension": ".py",
   "mimetype": "text/x-python",
   "name": "python",
   "nbconvert_exporter": "python",
   "pygments_lexer": "ipython3",
   "version": "3.11.9"
  }
 },
 "nbformat": 4,
 "nbformat_minor": 2
}
