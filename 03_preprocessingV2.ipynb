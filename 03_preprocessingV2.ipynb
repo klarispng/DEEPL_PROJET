{
 "cells": [
  {
   "cell_type": "code",
   "execution_count": 29,
   "metadata": {},
   "outputs": [],
   "source": [
    "import pandas as pd\n",
    "from music21 import converter, instrument, note, chord\n",
    "from sklearn.preprocessing import LabelEncoder\n",
    "import itertools"
   ]
  },
  {
   "cell_type": "code",
   "execution_count": 30,
   "metadata": {},
   "outputs": [],
   "source": [
    "path = 'data\\maestro-v3.0.0.csv'\n",
    "df = pd.read_csv(path)"
   ]
  },
  {
   "cell_type": "code",
   "execution_count": 31,
   "metadata": {},
   "outputs": [],
   "source": [
    "df = df.sort_values(by='duration').iloc[:10]"
   ]
  },
  {
   "cell_type": "code",
   "execution_count": 32,
   "metadata": {},
   "outputs": [],
   "source": [
    "def extraction_notes(file):\n",
    "    midi = converter.parse(file)\n",
    "    L_notes = []\n",
    "    for e in midi.recurse().notes:\n",
    "        if e.isNote:\n",
    "            x = [e.pitch.midi]+9*[-1]\n",
    "            L_notes.append(x)\n",
    "        elif e.isChord:\n",
    "            x = [p.midi for p in e.pitches]\n",
    "            while len(x)<10:\n",
    "                x.append(-1)\n",
    "            L_notes.append(x)\n",
    "    return L_notes\n",
    "\n",
    "def ex_notes_tab(df,col_out):\n",
    "    df['midi_file_data'] = 'data/'+df['midi_filename']\n",
    "    df[col_out] = df['midi_file_data'].apply(extraction_notes)\n",
    "    return df\n",
    "\n",
    "def colonnes(df):\n",
    "    df_expanded = df['X'].apply(pd.Series)\n",
    "    df_expanded['y'] = df['y']\n",
    "\n",
    "    return df_expanded\n",
    "\n",
    "def sequence_list(L):\n",
    "    sequence_length = 500\n",
    "\n",
    "    input_sequences = []\n",
    "    output_notes = []\n",
    "\n",
    "    for i in range(len(L) - sequence_length):\n",
    "        seq_in = L[i:i + sequence_length]  \n",
    "        seq_out = L[i + sequence_length]  \n",
    "        input_sequences.append(seq_in)\n",
    "        output_notes.append(seq_out)\n",
    "\n",
    "    return input_sequences,output_notes\n",
    "\n",
    "def sequence(dff):\n",
    "    X,y = [],[]\n",
    "    for k in dff['notes'].to_list():\n",
    "        xtemp,ytemp = sequence_list(k)\n",
    "        X.append(xtemp)\n",
    "        y.append(ytemp)\n",
    "    X=list(itertools.chain(*X))\n",
    "    y=list(itertools.chain(*y))\n",
    "\n",
    "    return pd.DataFrame({\"X\":X,\"y\":y})\n",
    "    "
   ]
  },
  {
   "cell_type": "code",
   "execution_count": 37,
   "metadata": {},
   "outputs": [],
   "source": [
    "def preprocessing(df,split):\n",
    "    dff = df[df['split']==split]\n",
    "    print(dff.head())\n",
    "    dff = ex_notes_tab(dff,'notes')\n",
    "    print(dff.head())\n",
    "    return colonnes(sequence(dff))"
   ]
  },
  {
   "cell_type": "code",
   "execution_count": 39,
   "metadata": {},
   "outputs": [],
   "source": [
    "dff = df[df['split']=='test']"
   ]
  },
  {
   "cell_type": "code",
   "execution_count": 42,
   "metadata": {},
   "outputs": [
    {
     "name": "stderr",
     "output_type": "stream",
     "text": [
      "C:\\Users\\ccdeb\\AppData\\Local\\Temp\\ipykernel_12600\\1756167662.py:16: SettingWithCopyWarning: \n",
      "A value is trying to be set on a copy of a slice from a DataFrame.\n",
      "Try using .loc[row_indexer,col_indexer] = value instead\n",
      "\n",
      "See the caveats in the documentation: https://pandas.pydata.org/pandas-docs/stable/user_guide/indexing.html#returning-a-view-versus-a-copy\n",
      "  df['midi_file_data'] = 'data/'+df['midi_filename']\n",
      "C:\\Users\\ccdeb\\AppData\\Local\\Temp\\ipykernel_12600\\1756167662.py:17: SettingWithCopyWarning: \n",
      "A value is trying to be set on a copy of a slice from a DataFrame.\n",
      "Try using .loc[row_indexer,col_indexer] = value instead\n",
      "\n",
      "See the caveats in the documentation: https://pandas.pydata.org/pandas-docs/stable/user_guide/indexing.html#returning-a-view-versus-a-copy\n",
      "  df[col_out] = df['midi_file_data'].apply(extraction_notes)\n"
     ]
    },
    {
     "data": {
      "text/html": [
       "<div>\n",
       "<style scoped>\n",
       "    .dataframe tbody tr th:only-of-type {\n",
       "        vertical-align: middle;\n",
       "    }\n",
       "\n",
       "    .dataframe tbody tr th {\n",
       "        vertical-align: top;\n",
       "    }\n",
       "\n",
       "    .dataframe thead th {\n",
       "        text-align: right;\n",
       "    }\n",
       "</style>\n",
       "<table border=\"1\" class=\"dataframe\">\n",
       "  <thead>\n",
       "    <tr style=\"text-align: right;\">\n",
       "      <th></th>\n",
       "      <th>canonical_composer</th>\n",
       "      <th>canonical_title</th>\n",
       "      <th>split</th>\n",
       "      <th>year</th>\n",
       "      <th>midi_filename</th>\n",
       "      <th>audio_filename</th>\n",
       "      <th>duration</th>\n",
       "      <th>midi_file_data</th>\n",
       "      <th>notes</th>\n",
       "    </tr>\n",
       "  </thead>\n",
       "  <tbody>\n",
       "    <tr>\n",
       "      <th>92</th>\n",
       "      <td>Domenico Scarlatti</td>\n",
       "      <td>Sonata K. 525</td>\n",
       "      <td>test</td>\n",
       "      <td>2008</td>\n",
       "      <td>2008/MIDI-Unprocessed_09_R3_2008_01-07_ORIG_MI...</td>\n",
       "      <td>2008/MIDI-Unprocessed_09_R3_2008_01-07_ORIG_MI...</td>\n",
       "      <td>65.948118</td>\n",
       "      <td>data/2008/MIDI-Unprocessed_09_R3_2008_01-07_OR...</td>\n",
       "      <td>[[60, -1, -1, -1, -1, -1, -1, -1, -1, -1], [65...</td>\n",
       "    </tr>\n",
       "  </tbody>\n",
       "</table>\n",
       "</div>"
      ],
      "text/plain": [
       "    canonical_composer canonical_title split  year  \\\n",
       "92  Domenico Scarlatti   Sonata K. 525  test  2008   \n",
       "\n",
       "                                        midi_filename  \\\n",
       "92  2008/MIDI-Unprocessed_09_R3_2008_01-07_ORIG_MI...   \n",
       "\n",
       "                                       audio_filename   duration  \\\n",
       "92  2008/MIDI-Unprocessed_09_R3_2008_01-07_ORIG_MI...  65.948118   \n",
       "\n",
       "                                       midi_file_data  \\\n",
       "92  data/2008/MIDI-Unprocessed_09_R3_2008_01-07_OR...   \n",
       "\n",
       "                                                notes  \n",
       "92  [[60, -1, -1, -1, -1, -1, -1, -1, -1, -1], [65...  "
      ]
     },
     "execution_count": 42,
     "metadata": {},
     "output_type": "execute_result"
    }
   ],
   "source": [
    "dff = ex_notes_tab(dff,'notes')\n",
    "dff"
   ]
  },
  {
   "cell_type": "code",
   "execution_count": 43,
   "metadata": {},
   "outputs": [
    {
     "data": {
      "text/html": [
       "<div>\n",
       "<style scoped>\n",
       "    .dataframe tbody tr th:only-of-type {\n",
       "        vertical-align: middle;\n",
       "    }\n",
       "\n",
       "    .dataframe tbody tr th {\n",
       "        vertical-align: top;\n",
       "    }\n",
       "\n",
       "    .dataframe thead th {\n",
       "        text-align: right;\n",
       "    }\n",
       "</style>\n",
       "<table border=\"1\" class=\"dataframe\">\n",
       "  <thead>\n",
       "    <tr style=\"text-align: right;\">\n",
       "      <th></th>\n",
       "      <th>X</th>\n",
       "      <th>y</th>\n",
       "    </tr>\n",
       "  </thead>\n",
       "  <tbody>\n",
       "  </tbody>\n",
       "</table>\n",
       "</div>"
      ],
      "text/plain": [
       "Empty DataFrame\n",
       "Columns: [X, y]\n",
       "Index: []"
      ]
     },
     "execution_count": 43,
     "metadata": {},
     "output_type": "execute_result"
    }
   ],
   "source": [
    "sequence(dff)"
   ]
  },
  {
   "cell_type": "code",
   "execution_count": null,
   "metadata": {},
   "outputs": [],
   "source": []
  }
 ],
 "metadata": {
  "kernelspec": {
   "display_name": "Python 3",
   "language": "python",
   "name": "python3"
  },
  "language_info": {
   "codemirror_mode": {
    "name": "ipython",
    "version": 3
   },
   "file_extension": ".py",
   "mimetype": "text/x-python",
   "name": "python",
   "nbconvert_exporter": "python",
   "pygments_lexer": "ipython3",
   "version": "3.11.1"
  }
 },
 "nbformat": 4,
 "nbformat_minor": 2
}
