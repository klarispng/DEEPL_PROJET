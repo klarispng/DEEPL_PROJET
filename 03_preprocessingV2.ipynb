{
 "cells": [
  {
   "cell_type": "code",
   "execution_count": 91,
   "metadata": {},
   "outputs": [],
   "source": [
    "import pandas as pd\n",
    "from music21 import converter, instrument, note, chord\n",
    "from sklearn.preprocessing import LabelEncoder\n",
    "import itertools\n",
    "import warnings\n",
    "warnings.filterwarnings(\"ignore\")"
   ]
  },
  {
   "cell_type": "code",
   "execution_count": 92,
   "metadata": {},
   "outputs": [],
   "source": [
    "path = 'data\\maestro-v3.0.0.csv'\n",
    "df = pd.read_csv(path)"
   ]
  },
  {
   "cell_type": "code",
   "execution_count": 93,
   "metadata": {},
   "outputs": [],
   "source": [
    "df = df.sort_values(by='duration').iloc[:10]"
   ]
  },
  {
   "cell_type": "code",
   "execution_count": 94,
   "metadata": {},
   "outputs": [],
   "source": [
    "def extraction_notes(file):\n",
    "    midi = converter.parse(file)\n",
    "    L_notes = []\n",
    "    for e in midi.recurse().notes:\n",
    "        if e.isNote:\n",
    "            x = [e.pitch.midi]+9*[-1]\n",
    "            L_notes.append(x)\n",
    "        elif e.isChord:\n",
    "            x = [p.midi for p in e.pitches]\n",
    "            while len(x)<10:\n",
    "                x.append(-1)\n",
    "            L_notes.append(x)\n",
    "    if len(L_notes)<200:\n",
    "        return 'null'\n",
    "    else:\n",
    "        return L_notes\n",
    "\n",
    "def ex_notes_tab(df,col_out):\n",
    "    df['midi_file_data'] = 'data/'+df['midi_filename']\n",
    "    df[col_out] = df['midi_file_data'].apply(extraction_notes)\n",
    "    return df[df[col_out]!='null']\n",
    "\n",
    "def colonnes(df):\n",
    "    df_expanded = df['X'].apply(pd.Series)\n",
    "    df_expanded['y'] = df['y']\n",
    "\n",
    "    return df_expanded\n",
    "\n",
    "def sequence_list(L):\n",
    "    sequence_length = 200\n",
    "\n",
    "    input_sequences = []\n",
    "    output_notes = []\n",
    "\n",
    "    for i in range(len(L) - sequence_length):\n",
    "        seq_in = L[i:i + sequence_length]  \n",
    "        seq_out = L[i + sequence_length]  \n",
    "        input_sequences.append(seq_in)\n",
    "        output_notes.append(seq_out)\n",
    "\n",
    "    return input_sequences,output_notes\n",
    "\n",
    "def sequence(dff):\n",
    "    X,y = [],[]\n",
    "    for k in dff['notes'].to_list():\n",
    "        xtemp,ytemp = sequence_list(k)\n",
    "        X.append(xtemp)\n",
    "        y.append(ytemp)\n",
    "    X=list(itertools.chain(*X))\n",
    "    y=list(itertools.chain(*y))\n",
    "\n",
    "    return pd.DataFrame({\"X\":X,\"y\":y})\n",
    "    "
   ]
  },
  {
   "cell_type": "code",
   "execution_count": 95,
   "metadata": {},
   "outputs": [],
   "source": [
    "def preprocessing(df,split):\n",
    "    dff = df[df['split']==split]\n",
    "    #print(dff.head())\n",
    "    dff = ex_notes_tab(dff,'notes')\n",
    "    #print(dff.head())\n",
    "    return colonnes(sequence(dff))"
   ]
  },
  {
   "cell_type": "code",
   "execution_count": 96,
   "metadata": {},
   "outputs": [
    {
     "name": "stdout",
     "output_type": "stream",
     "text": [
      "validation\n",
      "train\n",
      "test\n"
     ]
    }
   ],
   "source": [
    "for k in df['split'].unique():\n",
    "    print(k)\n",
    "    dfp = preprocessing(df,k)\n",
    "    dfp.to_csv('C:/Users/ccdeb/Documents/CS/3A/DEEPL/PROJET/data/'+k+'_10_V2.csv',index=False)"
   ]
  },
  {
   "cell_type": "code",
   "execution_count": null,
   "metadata": {},
   "outputs": [],
   "source": []
  }
 ],
 "metadata": {
  "kernelspec": {
   "display_name": "Python 3",
   "language": "python",
   "name": "python3"
  },
  "language_info": {
   "codemirror_mode": {
    "name": "ipython",
    "version": 3
   },
   "file_extension": ".py",
   "mimetype": "text/x-python",
   "name": "python",
   "nbconvert_exporter": "python",
   "pygments_lexer": "ipython3",
   "version": "3.11.1"
  }
 },
 "nbformat": 4,
 "nbformat_minor": 2
}
